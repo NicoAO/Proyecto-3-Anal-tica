{
 "cells": [
  {
   "cell_type": "code",
   "execution_count": 0,
   "metadata": {
    "application/vnd.databricks.v1+cell": {
     "cellMetadata": {
      "byteLimit": 2048000,
      "rowLimit": 10000
     },
     "inputWidgets": {},
     "nuid": "bf6e6325-9bbb-418e-8c1a-6247b35c590a",
     "showTitle": false,
     "title": ""
    }
   },
   "outputs": [
    {
     "output_type": "stream",
     "name": "stderr",
     "output_type": "stream",
     "text": [
      "2024/05/29 00:35:40 WARNING mlflow.models.model: Model logged without a signature. Signatures will be required for upcoming model registry features as they validate model inputs and denote the expected schema of model outputs. Please visit https://www.mlflow.org/docs/2.11.1/models.html#set-signature-on-logged-model for instructions on setting a model signature on your logged model.\n"
     ]
    },
    {
     "output_type": "display_data",
     "data": {
      "application/vnd.jupyter.widget-view+json": {
       "model_id": "54bf5b0b5ff24e73b42378ff5a6a55c9",
       "version_major": 2,
       "version_minor": 0
      },
      "text/plain": [
       "Uploading artifacts:   0%|          | 0/5 [00:00<?, ?it/s]"
      ]
     },
     "metadata": {},
     "output_type": "display_data"
    },
    {
     "output_type": "stream",
     "name": "stdout",
     "output_type": "stream",
     "text": [
      "0.6397630022553087\n"
     ]
    }
   ],
   "source": [
    "# File location and type\n",
    "file_location = \"/FileStore/tables/datos_limpios-2.csv\"\n",
    "file_type = \"csv\"\n",
    "\n",
    "# CSV options\n",
    "infer_schema = \"false\"\n",
    "first_row_is_header = \"false\"\n",
    "delimiter = \",\"\n",
    "\n",
    "# The applied options are for CSV files. For other file types, these will be ignored.\n",
    "df = spark.read.format(file_type) \\\n",
    "  .option(\"inferSchema\", infer_schema) \\\n",
    "  .option(\"header\", first_row_is_header) \\\n",
    "  .option(\"sep\", delimiter) \\\n",
    "  .load(file_location)\n",
    "\n",
    "# Importe el conjunto de datos de diabetes y divídalo en entrenamiento y prueba usando scikit-learn\n",
    "from sklearn.model_selection import train_test_split\n",
    "import pandas as pd\n",
    "\n",
    "db = df.toPandas()\n",
    "db = db.drop(0)\n",
    "X = db.iloc[:,1:21]\n",
    "y = db.iloc[:, -1]\n",
    "X_train, X_test, y_train, y_test = train_test_split(X, y)\n",
    "\n",
    "#Importe MLFlow para registrar los experimentos, el regresor de bosques aleatorios y la métrica de error cuadrático medio\n",
    "import mlflow\n",
    "import mlflow.sklearn\n",
    "from sklearn.ensemble import RandomForestRegressor\n",
    "from sklearn.metrics import mean_squared_error, r2_score\n",
    "\n",
    "# defina el servidor para llevar el registro de modelos y artefactos - no es necesario en Databricks\n",
    "# mlflow.set_tracking_uri('http://localhost:5000')\n",
    "# registre el experimento\n",
    "experiment = mlflow.set_experiment(\"/Shared/sklearn-icfes\")\n",
    "\n",
    "# Aquí se ejecuta MLflow sin especificar un nombre o id del experimento. MLflow los crea un experimento para este cuaderno por defecto y guarda las características del experimento y las métricas definidas. \n",
    "# Para ver el resultado de las corridas haga click en Experimentos en el menú izquierdo. \n",
    "with mlflow.start_run(experiment_id=experiment.experiment_id):\n",
    "    # defina los parámetros del modelo\n",
    "    n_estimators = 200 \n",
    "    max_depth = 10\n",
    "    max_features = 10\n",
    "    # Cree el modelo con los parámetros definidos y entrénelo\n",
    "    rf = RandomForestRegressor(n_estimators = n_estimators, max_depth = max_depth, max_features = max_features)\n",
    "    rf.fit(X_train, y_train)\n",
    "    # Realice predicciones de prueba\n",
    "    predictions = rf.predict(X_test)\n",
    "  \n",
    "    # Registre los parámetros\n",
    "    mlflow.log_param(\"num_trees\", n_estimators)\n",
    "    mlflow.log_param(\"maxdepth\", max_depth)\n",
    "    mlflow.log_param(\"max_feat\", max_features)\n",
    "  \n",
    "    # Registre el modelo\n",
    "    mlflow.sklearn.log_model(rf, \"random-forest-model\")\n",
    "  \n",
    "    # Cree y registre la métrica de interés\n",
    "    r2 = r2_score(y_test, predictions)\n",
    "    mlflow.log_metric(\"r2\", r2)\n",
    "    print(r2)"
   ]
  }
 ],
 "metadata": {
  "application/vnd.databricks.v1+notebook": {
   "dashboards": [],
   "environmentMetadata": null,
   "language": "python",
   "notebookMetadata": {
    "pythonIndentUnit": 4
   },
   "notebookName": "Proyecto3-sklearn",
   "widgets": {}
  }
 },
 "nbformat": 4,
 "nbformat_minor": 0
}
